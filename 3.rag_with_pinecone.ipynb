{
 "cells": [
  {
   "cell_type": "markdown",
   "metadata": {},
   "source": [
    "1. 문서의 내용을 읽는다\n",
    "2. 문서를 쪼갠다    \n",
    "    -토큰수 초과로 답변을 생성하지 못할수있꼬\n",
    "    -문서가 길면(인풋이 길면) 답변 생성이 오래걸림\n",
    "3.임베딩 -> 벡터 데이터베이스에 저장\n",
    "4.질문이 있으럗 벡터 데이터베이스에 유사도검색\n",
    "5.유사도 검색으로 가져온 문서를 LLM에 질문과 같이전달\n"
   ]
  },
  {
   "cell_type": "code",
   "execution_count": null,
   "metadata": {},
   "outputs": [],
   "source": [
    "%pip install --upgrade --quiet  docx2txt langchain-community"
   ]
  },
  {
   "cell_type": "code",
   "execution_count": 2,
   "metadata": {},
   "outputs": [],
   "source": [
    "from langchain_community.document_loaders import Docx2txtLoader\n",
    "from langchain_text_splitters import RecursiveCharacterTextSplitter\n",
    "\n",
    "text_splitter = RecursiveCharacterTextSplitter(chunk_size=1500, chunk_overlap=200)\n",
    "\n",
    "loader = Docx2txtLoader(\"./tax.docx\")\n",
    "documents_list = loader.load_and_split(text_splitter = text_splitter)\n",
    "\n",
    "\n",
    "\n"
   ]
  },
  {
   "cell_type": "code",
   "execution_count": 15,
   "metadata": {},
   "outputs": [
    {
     "data": {
      "text/plain": [
       "193"
      ]
     },
     "execution_count": 15,
     "metadata": {},
     "output_type": "execute_result"
    }
   ],
   "source": [
    "len(documents_list)\n"
   ]
  },
  {
   "cell_type": "code",
   "execution_count": 3,
   "metadata": {},
   "outputs": [],
   "source": [
    "from dotenv import load_dotenv\n",
    "from langchain_openai import OpenAIEmbeddings\n",
    "\n",
    "load_dotenv()\n",
    "\n",
    "embedding = OpenAIEmbeddings(model=\"text-embedding-3-large\")\n",
    " \n",
    "\n",
    "\n",
    "\n",
    "\n",
    "\n",
    "\n"
   ]
  },
  {
   "cell_type": "code",
   "execution_count": 33,
   "metadata": {},
   "outputs": [],
   "source": [
    "from langchain_chroma import Chroma\n",
    "#데이터를 처음 저장할때 \n",
    "#database = Chroma.from_documents(documents=documents_list, embedding=embedding, persist_directory=\"./chroma_db\", collection_name=\"chroma-tax\")\n",
    "#이미 저장된 데이터를 사용할때\n",
    "database = Chroma(collection_name=\"chroma-tax\", persist_directory=\"./chroma_db\",embedding_function=embedding)"
   ]
  },
  {
   "cell_type": "code",
   "execution_count": 25,
   "metadata": {},
   "outputs": [],
   "source": [
    "query = '연봉 5천만원인 직장인의 소득세는 얼마인가요?'\n",
    "retrieved_docs = database.similarity_search(query, k=3)\n"
   ]
  },
  {
   "cell_type": "code",
   "execution_count": 6,
   "metadata": {},
   "outputs": [],
   "source": [
    "from langchain_openai import ChatOpenAI\n",
    "\n",
    "llm = ChatOpenAI(model=\"gpt-4o\")\n",
    "\n",
    "\n",
    "\n",
    "\n",
    "\n",
    "\n"
   ]
  },
  {
   "cell_type": "code",
   "execution_count": 16,
   "metadata": {},
   "outputs": [],
   "source": [
    "prompt = f\"\"\"[identity]\n",
    "- 당신은 최고의 한국 소득세 전문가입니다\n",
    "- [context]를 참고해서 사용자의 질문에 답변해주세요\n",
    "\n",
    "[context]\n",
    "{retrieved_docs}\n",
    "\n",
    "[question]\n",
    "{query} \n",
    "\"\"\"\n"
   ]
  },
  {
   "cell_type": "code",
   "execution_count": 26,
   "metadata": {},
   "outputs": [],
   "source": [
    "ai_message = llm.invoke(prompt)\n"
   ]
  },
  {
   "cell_type": "code",
   "execution_count": 37,
   "metadata": {},
   "outputs": [
    {
     "ename": "AttributeError",
     "evalue": "'dict' object has no attribute 'content'",
     "output_type": "error",
     "traceback": [
      "\u001b[31m---------------------------------------------------------------------------\u001b[39m",
      "\u001b[31mAttributeError\u001b[39m                            Traceback (most recent call last)",
      "\u001b[36mCell\u001b[39m\u001b[36m \u001b[39m\u001b[32mIn[37]\u001b[39m\u001b[32m, line 1\u001b[39m\n\u001b[32m----> \u001b[39m\u001b[32m1\u001b[39m \u001b[43mai_message\u001b[49m\u001b[43m.\u001b[49m\u001b[43mcontent\u001b[49m\n",
      "\u001b[31mAttributeError\u001b[39m: 'dict' object has no attribute 'content'"
     ]
    }
   ],
   "source": [
    "ai_message.content"
   ]
  },
  {
   "cell_type": "markdown",
   "metadata": {},
   "source": [
    "'연봉 5천만원인 직장인의 소득세를 계산하기 위해서는 몇 가지 중요한 요소들을 고려해야 합니다. 소득세는 과세 대상 금액을 기반으로 하여 점진적으로 증가하는 세율을 적용합니다. 일반적으로 소득세 계산시, 근로소득 공제 및 각종 공제를 반영하여 과세표준을 설정한 후, 해당 과표 구간에 맞는 세율을 적용합니다. \\n\\n1. **근로소득공제**: 먼저 연봉에서 근로소득공제를 차감해야 합니다. 근로소득공제는 소득 구간에 따라 다르게 적용되며, 예를 들어 5천만원의 연봉인 경우 약 1100만원 정도로 추정할 수 있습니다.\\n\\n2. **기초공제 및 기타 공제**: 본인 및 부양가족에 대한 기초공제, 연금보험료 공제, 기타 보험료 공제 등이 추가로 반영됩니다. 이러한 개인적인 부분을 모른 상태에서는 대략적인 예측만 가능합니다.\\n\\n3. **과세표준 구간에 따른 세율 적용**: 소득세율은 과세표준에 따라 다르게 적용되며, 5천만원 수준에서는 기본 세율보다 높은 24% 전후의 세율이 적용될 수 있습니다.\\n\\n4. **소득세 계산**: 계산된 과세표준에 따라 누진세율을 적용하고, 그 결과로 나온 금액 중에서 기납부 세액(예상 간이세액) 및 세액 공제 등을 차감하여 최종 소득세를 산출하게 됩니다.\\n\\n따라서 정확한 공제 항목과 각각의 금액이 주어지지 않은 경우 개략적인 소득세 금액을 추정하기 어렵습니다. 대략적인 계산으로는 연봉의 약 5~15% 범위 내에서 소득세가 결정될 수 있으나, 정확한 금액은 개인의 구체적인 공제 항목에 따라 달라집니다. 세무 전문가나 관련 계산 프로그램을 이용하여 상세 계산하는 것을 권장합니다.'\n"
   ]
  },
  {
   "cell_type": "code",
   "execution_count": 1,
   "metadata": {},
   "outputs": [
    {
     "name": "stdout",
     "output_type": "stream",
     "text": [
      "Note: you may need to restart the kernel to use updated packages.\n"
     ]
    }
   ],
   "source": [
    "%pip install --upgrade --quiet langchain-community langchain langchain-openai faiss-cpu beautifulsoup4"
   ]
  },
  {
   "cell_type": "code",
   "execution_count": 28,
   "metadata": {},
   "outputs": [
    {
     "name": "stderr",
     "output_type": "stream",
     "text": [
      "d:\\study\\inflearn-llm\\Lib\\site-packages\\langsmith\\client.py:272: LangSmithMissingAPIKeyWarning: API key must be provided when using hosted LangSmith API\n",
      "  warnings.warn(\n"
     ]
    }
   ],
   "source": [
    "from langchain import hub\n",
    "\n",
    "prompt = hub.pull(\"rlm/rag-prompt\")\n"
   ]
  },
  {
   "cell_type": "code",
   "execution_count": 29,
   "metadata": {},
   "outputs": [
    {
     "data": {
      "text/plain": [
       "ChatPromptTemplate(input_variables=['context', 'question'], input_types={}, partial_variables={}, metadata={'lc_hub_owner': 'rlm', 'lc_hub_repo': 'rag-prompt', 'lc_hub_commit_hash': '50442af133e61576e74536c6556cefe1fac147cad032f4377b60c436e6cdcb6e'}, messages=[HumanMessagePromptTemplate(prompt=PromptTemplate(input_variables=['context', 'question'], input_types={}, partial_variables={}, template=\"You are an assistant for question-answering tasks. Use the following pieces of retrieved context to answer the question. If you don't know the answer, just say that you don't know. Use three sentences maximum and keep the answer concise.\\nQuestion: {question} \\nContext: {context} \\nAnswer:\"), additional_kwargs={})])"
      ]
     },
     "execution_count": 29,
     "metadata": {},
     "output_type": "execute_result"
    }
   ],
   "source": [
    "prompt"
   ]
  },
  {
   "cell_type": "code",
   "execution_count": 30,
   "metadata": {},
   "outputs": [],
   "source": [
    "from langchain.chains import RetrievalQA\n",
    "\n",
    "qa_chain = RetrievalQA.from_chain_type(\n",
    "    llm,\n",
    "    retriever=database.as_retriever(),\n",
    "    chain_type_kwargs={\"prompt\": prompt}\n",
    ")\n",
    "\n",
    "\n",
    "\n",
    "\n"
   ]
  },
  {
   "cell_type": "code",
   "execution_count": 34,
   "metadata": {},
   "outputs": [],
   "source": [
    "ai_message = qa_chain.invoke({\"query\": query})\n"
   ]
  },
  {
   "cell_type": "code",
   "execution_count": 39,
   "metadata": {},
   "outputs": [
    {
     "data": {
      "text/plain": [
       "{'query': '연봉 5천만원인 직장인의 소득세는 얼마인가요?',\n",
       " 'result': '연봉 5천 만원의 직장인의 소득세를 정확하게 계산하려면 현행 세법과 공제 항목 등의 세부사항이 필요합니다. 한국의 소득세는 누진세율을 적용하므로, 기본 공제와 연금보험료 등의 공제 항목에 따라 최종 소득세 부담이 달라질 수 있습니다. 자세한 계산이 필요하다면, 국세청의 소득세 계산기를 이용할 수 있습니다.'}"
      ]
     },
     "execution_count": 39,
     "metadata": {},
     "output_type": "execute_result"
    }
   ],
   "source": [
    "ai_message"
   ]
  }
 ],
 "metadata": {
  "kernelspec": {
   "display_name": "inflearn-llm",
   "language": "python",
   "name": "python3"
  },
  "language_info": {
   "codemirror_mode": {
    "name": "ipython",
    "version": 3
   },
   "file_extension": ".py",
   "mimetype": "text/x-python",
   "name": "python",
   "nbconvert_exporter": "python",
   "pygments_lexer": "ipython3",
   "version": "3.13.3"
  }
 },
 "nbformat": 4,
 "nbformat_minor": 2
}
